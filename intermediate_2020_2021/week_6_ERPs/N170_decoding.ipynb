{
 "cells": [
  {
   "cell_type": "code",
   "execution_count": 3,
   "metadata": {},
   "outputs": [],
   "source": [
    "%matplotlib inline"
   ]
  },
  {
   "cell_type": "markdown",
   "metadata": {},
   "source": [
    "\n",
    "# N170 Decoding\n",
    "\n",
    "This example runs a set of machine learning algorithms on the N170 faces/houses \n",
    "dataset, and compares them in terms of classification performance. \n",
    "\n",
    "The data used is exactly the same as in the N170 `load_and_visualize` example. \n"
   ]
  },
  {
   "cell_type": "markdown",
   "metadata": {},
   "source": [
    "## Setup\n",
    "\n"
   ]
  },
  {
   "cell_type": "code",
   "execution_count": 4,
   "metadata": {},
   "outputs": [],
   "source": [
    "# Some standard pythonic imports\n",
    "import warnings\n",
    "warnings.filterwarnings('ignore')\n",
    "import os,numpy as np,pandas as pd\n",
    "from collections import OrderedDict\n",
    "import seaborn as sns\n",
    "from matplotlib import pyplot as plt\n",
    "\n",
    "# MNE functions\n",
    "from mne import Epochs,find_events\n",
    "from mne.decoding import Vectorizer\n",
    "\n",
    "# EEG-Notebooks functions\n",
    "from eegnb.analysis.utils import load_data\n",
    "from eegnb.datasets import fetch_dataset\n",
    "\n",
    "# Scikit-learn and Pyriemann ML functionalities\n",
    "from sklearn.pipeline import make_pipeline\n",
    "from sklearn.linear_model import LogisticRegression\n",
    "from sklearn.preprocessing import StandardScaler\n",
    "from sklearn.discriminant_analysis import LinearDiscriminantAnalysis as LDA\n",
    "from sklearn.model_selection import cross_val_score, StratifiedShuffleSplit\n",
    "from pyriemann.estimation import ERPCovariances, XdawnCovariances\n",
    "from pyriemann.tangentspace import TangentSpace\n",
    "from pyriemann.classification import MDM"
   ]
  },
  {
   "cell_type": "markdown",
   "metadata": {},
   "source": [
    "## Load Data\n",
    "\n",
    "( See the n170 `load_and_visualize` example for further description of this)\n",
    "\n",
    "\n"
   ]
  },
  {
   "cell_type": "code",
   "execution_count": 5,
   "metadata": {},
   "outputs": [
    {
     "name": "stdout",
     "output_type": "stream",
     "text": [
      "['TP9', 'AF7', 'AF8', 'TP10', 'Right AUX', 'stim']\n",
      "Creating RawArray with float64 data, n_channels=6, n_times=30732\n",
      "    Range : 0 ... 30731 =      0.000 ...   120.043 secs\n",
      "Ready.\n",
      "['TP9', 'AF7', 'AF8', 'TP10', 'Right AUX', 'stim']\n",
      "Creating RawArray with float64 data, n_channels=6, n_times=30732\n",
      "    Range : 0 ... 30731 =      0.000 ...   120.043 secs\n",
      "Ready.\n",
      "['TP9', 'AF7', 'AF8', 'TP10', 'Right AUX', 'stim']\n",
      "Creating RawArray with float64 data, n_channels=6, n_times=30732\n",
      "    Range : 0 ... 30731 =      0.000 ...   120.043 secs\n",
      "Ready.\n",
      "['TP9', 'AF7', 'AF8', 'TP10', 'Right AUX', 'stim']\n",
      "Creating RawArray with float64 data, n_channels=6, n_times=30732\n",
      "    Range : 0 ... 30731 =      0.000 ...   120.043 secs\n",
      "Ready.\n",
      "['TP9', 'AF7', 'AF8', 'TP10', 'Right AUX', 'stim']\n",
      "Creating RawArray with float64 data, n_channels=6, n_times=30732\n",
      "    Range : 0 ... 30731 =      0.000 ...   120.043 secs\n",
      "Ready.\n",
      "['TP9', 'AF7', 'AF8', 'TP10', 'Right AUX', 'stim']\n",
      "Creating RawArray with float64 data, n_channels=6, n_times=30720\n",
      "    Range : 0 ... 30719 =      0.000 ...   119.996 secs\n",
      "Ready.\n"
     ]
    }
   ],
   "source": [
    "eegnb_data_path = os.path.join(os.path.expanduser('~/'),'.eegnb', 'data')    \n",
    "n170_data_path = os.path.join(eegnb_data_path, 'visual-N170', 'eegnb_examples')\n",
    "\n",
    "# If dataset hasn't been downloaded yet, download it \n",
    "if not os.path.isdir(n170_data_path):\n",
    "    fetch_dataset(data_dir=eegnb_data_path, experiment='visual-N170', site='eegnb_examples')        \n",
    "\n",
    "subject = 1\n",
    "session = 1\n",
    "raw = load_data(subject,session,\n",
    "                experiment='visual-N170', site='eegnb_examples', device_name='muse2016',\n",
    "                data_dir = eegnb_data_path)"
   ]
  },
  {
   "cell_type": "markdown",
   "metadata": {},
   "source": [
    "## Filteriing\n",
    "\n"
   ]
  },
  {
   "cell_type": "code",
   "execution_count": 6,
   "metadata": {},
   "outputs": [
    {
     "name": "stdout",
     "output_type": "stream",
     "text": [
      "Filtering raw data in 6 contiguous segments\n",
      "Setting up band-pass filter from 1 - 30 Hz\n",
      "Using filter length: 30732\n",
      "\n",
      "IIR filter parameters\n",
      "---------------------\n",
      "Butterworth bandpass zero-phase (two-pass forward and reverse) non-causal filter:\n",
      "- Filter order 16 (effective, after forward-backward)\n",
      "- Cutoffs at 1.00, 30.00 Hz: -6.02, -6.02 dB\n",
      "\n"
     ]
    },
    {
     "data": {
      "text/plain": [
       "<RawArray | 6 x 184380 (720.2 s), ~8.5 MB, data loaded>"
      ]
     },
     "execution_count": 6,
     "metadata": {},
     "output_type": "execute_result"
    }
   ],
   "source": [
    "raw.filter(1,30, method='iir')"
   ]
  },
  {
   "cell_type": "markdown",
   "metadata": {},
   "source": [
    "## Epoching\n",
    "\n"
   ]
  },
  {
   "cell_type": "code",
   "execution_count": 7,
   "metadata": {},
   "outputs": [
    {
     "name": "stdout",
     "output_type": "stream",
     "text": [
      "1174 events found\n",
      "Event IDs: [1 2]\n",
      "sample drop %:  4.003407155025551\n"
     ]
    },
    {
     "data": {
      "text/plain": [
       "<Epochs  |   1127 events (all good), -0.101562 - 0.800781 sec, baseline off, ~8.0 MB, data loaded,\n",
       " 'Face': 562\n",
       " 'House': 565>"
      ]
     },
     "execution_count": 7,
     "metadata": {},
     "output_type": "execute_result"
    }
   ],
   "source": [
    "# Create an array containing the timestamps and type of each stimulus (i.e. face or house)\n",
    "events = find_events(raw)\n",
    "event_id = {'House': 1, 'Face': 2}\n",
    "\n",
    "# Create an MNE Epochs object representing all the epochs around stimulus presentation\n",
    "epochs = Epochs(raw, events=events, event_id=event_id, \n",
    "                tmin=-0.1, tmax=0.8, baseline=None,\n",
    "                reject={'eeg': 75e-6}, preload=True,\n",
    "                verbose=False, picks=[0,1,2,3])\n",
    "\n",
    "print('sample drop %: ', (1 - len(epochs.events)/len(events)) * 100)\n",
    "epochs"
   ]
  },
  {
   "cell_type": "markdown",
   "metadata": {},
   "source": [
    "## Run classification\n",
    "\n"
   ]
  },
  {
   "cell_type": "code",
   "execution_count": 8,
   "metadata": {},
   "outputs": [
    {
     "name": "stdout",
     "output_type": "stream",
     "text": [
      "Vect + LR\n",
      "Vect + RegLDA\n",
      "ERPCov + TS\n",
      "ERPCov + MDM\n",
      "XdawnCov + TS\n",
      "XdawnCov + MDM\n"
     ]
    }
   ],
   "source": [
    "clfs = OrderedDict()\n",
    "clfs['Vect + LR'] = make_pipeline(Vectorizer(), StandardScaler(), LogisticRegression())\n",
    "clfs['Vect + RegLDA'] = make_pipeline(Vectorizer(), LDA(shrinkage='auto', solver='eigen'))\n",
    "clfs['ERPCov + TS'] = make_pipeline(ERPCovariances(estimator='oas'), TangentSpace(), LogisticRegression())\n",
    "clfs['ERPCov + MDM'] = make_pipeline(ERPCovariances(estimator='oas'), MDM())\n",
    "clfs['XdawnCov + TS'] = make_pipeline(XdawnCovariances(estimator='oas'), TangentSpace(), LogisticRegression())\n",
    "clfs['XdawnCov + MDM'] = make_pipeline(XdawnCovariances(estimator='oas'), MDM())\n",
    "\n",
    "# format data\n",
    "epochs.pick_types(eeg=True)\n",
    "X = epochs.get_data() * 1e6\n",
    "times = epochs.times\n",
    "y = epochs.events[:, -1]\n",
    "\n",
    "# define cross validation \n",
    "cv = StratifiedShuffleSplit(n_splits=20, test_size=0.25, \n",
    "                                    random_state=42)\n",
    "\n",
    "# run cross validation for each pipeline\n",
    "auc = []\n",
    "methods = []\n",
    "for m in clfs:\n",
    "    print(m)\n",
    "    try:\n",
    "        res = cross_val_score(clfs[m], X, y==2, scoring='roc_auc', \n",
    "                              cv=cv, n_jobs=-1)\n",
    "        auc.extend(res)\n",
    "        methods.extend([m]*len(res))\n",
    "    except:\n",
    "        pass"
   ]
  },
  {
   "cell_type": "markdown",
   "metadata": {},
   "source": [
    "## Plot Decoding Results\n",
    "\n"
   ]
  },
  {
   "cell_type": "code",
   "execution_count": 9,
   "metadata": {},
   "outputs": [
    {
     "data": {
      "image/png": "[encoded data removed]",
      "text/plain": [
       "<Figure size 576x288 with 1 Axes>"
      ]
     },
     "metadata": {},
     "output_type": "display_data"
    }
   ],
   "source": [
    "results = pd.DataFrame(data=auc, columns=['AUC'])\n",
    "results['Method'] = methods\n",
    "\n",
    "fig = plt.figure(figsize=[8,4])\n",
    "sns.barplot(data=results, x='AUC', y='Method')\n",
    "plt.xlim(0.4, 0.9)\n",
    "sns.despine()"
   ]
  },
  {
   "cell_type": "code",
   "execution_count": null,
   "metadata": {},
   "outputs": [],
   "source": []
  }
 ],
 "metadata": {
  "kernelspec": {
   "display_name": "eeg-notebooks",
   "language": "python",
   "name": "eeg-notebooks"
  },
  "language_info": {
   "codemirror_mode": {
    "name": "ipython",
    "version": 3
   },
   "file_extension": ".py",
   "mimetype": "text/x-python",
   "name": "python",
   "nbconvert_exporter": "python",
   "pygments_lexer": "ipython3",
   "version": "3.8.5"
  }
 },
 "nbformat": 4,
 "nbformat_minor": 1
}
